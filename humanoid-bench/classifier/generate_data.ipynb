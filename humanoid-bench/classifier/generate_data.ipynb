{
 "cells": [
  {
   "cell_type": "code",
   "execution_count": 2,
   "metadata": {},
   "outputs": [],
   "source": [
    "import cv2\n",
    "import os"
   ]
  },
  {
   "cell_type": "code",
   "execution_count": 21,
   "metadata": {},
   "outputs": [
    {
     "name": "stdout",
     "output_type": "stream",
     "text": [
      "이미지 데이터 세트 생성 완료.\n"
     ]
    }
   ],
   "source": [
    "import os\n",
    "import cv2\n",
    "\n",
    "# 비디오가 있는 상위 폴더 경로 설정\n",
    "base_video_dir = \"videos/\"\n",
    "output_base_dir = \"image_dataset/\"\n",
    "\n",
    "# 출력 폴더가 없으면 생성\n",
    "if not os.path.exists(output_base_dir):\n",
    "    os.makedirs(output_base_dir)\n",
    "\n",
    "expected_subpath = os.path.join(\"media\", \"videos\", \"results\")\n",
    "\n",
    "# 상위 폴더 순회\n",
    "for root, dirs, files in os.walk(base_video_dir):\n",
    "    normalized_root = os.path.normpath(root)\n",
    "    if expected_subpath in normalized_root:  # 각 폴더의 결과 비디오들이 있는 위치\n",
    "        # root에서 상위 4개의 폴더 추출\n",
    "        root_parts = normalized_root.split(os.sep)  # 경로를 플랫폼에 맞게 분할\n",
    "        if len(root_parts) < 4:\n",
    "            print(f\"경로가 너무 짧습니다: {normalized_root}\")\n",
    "            continue\n",
    "\n",
    "        folder_name = root_parts[\n",
    "            -4\n",
    "        ]  # 상위 4번째 폴더 이름 추출 (예: humanoid_h1-proto.tdmpc.tdmpc.0)\n",
    "\n",
    "        # 폴더명에서 필요한 부분만 추출 (예: proto)\n",
    "        try:\n",
    "            output_folder_suffix = folder_name.split(\"-\")[1].split(\".\")[0]\n",
    "        except IndexError:\n",
    "            print(f\"폴더 이름에서 필요한 부분을 추출할 수 없습니다: {folder_name}\")\n",
    "            continue\n",
    "\n",
    "        # 출력 폴더 생성\n",
    "        output_dir = os.path.join(output_base_dir, output_folder_suffix)\n",
    "        if not os.path.exists(output_dir):\n",
    "            os.makedirs(output_dir)\n",
    "\n",
    "        # 비디오 파일 순회\n",
    "        for video_file in files:\n",
    "            if video_file.endswith(\".mp4\"):  # mp4 파일만 처리\n",
    "                video_path = os.path.join(root, video_file)\n",
    "                cap = cv2.VideoCapture(video_path)\n",
    "\n",
    "                # 프레임 정보 및 반복 처리\n",
    "                frame_id = 0\n",
    "                frame_interval = 10\n",
    "\n",
    "                while cap.isOpened():\n",
    "                    ret, frame = cap.read()\n",
    "                    if not ret:\n",
    "                        break\n",
    "\n",
    "                    # 5 프레임마다 이미지 저장\n",
    "                    if frame_id % frame_interval == 0:\n",
    "                        output_image_path = os.path.join(\n",
    "                            output_dir,\n",
    "                            f\"{os.path.splitext(video_file)[0]}_frame_{frame_id}.jpg\",\n",
    "                        )\n",
    "                        cv2.imwrite(output_image_path, frame)\n",
    "\n",
    "                    frame_id += 1\n",
    "\n",
    "                cap.release()\n",
    "\n",
    "print(\"이미지 데이터 세트 생성 완료.\")"
   ]
  },
  {
   "cell_type": "markdown",
   "metadata": {},
   "source": [
    "proto-slide에 label을 달아서 데이터 세트 생성"
   ]
  },
  {
   "cell_type": "code",
   "execution_count": 22,
   "metadata": {},
   "outputs": [
    {
     "name": "stdout",
     "output_type": "stream",
     "text": [
      "이미지 데이터 세트 생성 완료.\n"
     ]
    }
   ],
   "source": [
    "import os\n",
    "import cv2\n",
    "\n",
    "# 비디오가 있는 상위 폴더 경로 설정\n",
    "base_video_dir = (\n",
    "    \"videos/humanoid_h1-proto_slide.tdmpc.tdmpc.0/media/videos/results_labeled\"\n",
    ")\n",
    "output_base_dir = \"image_dataset/proto-slide-labeled\"\n",
    "\n",
    "# 출력 폴더가 없으면 생성\n",
    "if not os.path.exists(output_base_dir):\n",
    "    os.makedirs(output_base_dir)\n",
    "\n",
    "expected_subpath = os.path.join(\"media\", \"videos\", \"results\")\n",
    "\n",
    "# 상위 폴더 순회\n",
    "for root, dirs, files in os.walk(base_video_dir):\n",
    "    normalized_root = os.path.normpath(root)\n",
    "    if expected_subpath in normalized_root:  # 각 폴더의 결과 비디오들이 있는 위치\n",
    "        # root에서 상위 4개의 폴더 추출\n",
    "        root_parts = normalized_root.split(os.sep)  # 경로를 플랫폼에 맞게 분할\n",
    "        if len(root_parts) < 4:\n",
    "            print(f\"경로가 너무 짧습니다: {normalized_root}\")\n",
    "            continue\n",
    "\n",
    "        folder_name = root_parts[\n",
    "            -4\n",
    "        ]  # 상위 4번째 폴더 이름 추출 (예: humanoid_h1-proto.tdmpc.tdmpc.0)\n",
    "\n",
    "        # 폴더명에서 필요한 부분만 추출 (예: proto)\n",
    "        try:\n",
    "            output_folder_suffix = folder_name.split(\"-\")[1].split(\".\")[0]\n",
    "        except IndexError:\n",
    "            print(f\"폴더 이름에서 필요한 부분을 추출할 수 없습니다: {folder_name}\")\n",
    "            continue\n",
    "\n",
    "        # 출력 폴더 생성\n",
    "        output_dir = os.path.join(output_base_dir, output_folder_suffix)\n",
    "        if not os.path.exists(output_dir):\n",
    "            os.makedirs(output_dir)\n",
    "\n",
    "        # 비디오 파일 순회\n",
    "        for video_file in files:\n",
    "            if video_file.endswith(\".mp4\"):  # mp4 파일만 처리\n",
    "                video_path = os.path.join(root, video_file)\n",
    "                cap = cv2.VideoCapture(video_path)\n",
    "\n",
    "                # 프레임 정보 및 반복 처리\n",
    "                frame_id = 0\n",
    "                frame_interval = 10\n",
    "\n",
    "                while cap.isOpened():\n",
    "                    ret, frame = cap.read()\n",
    "                    if not ret:\n",
    "                        break\n",
    "\n",
    "                    # 5 프레임마다 이미지 저장\n",
    "                    if frame_id % frame_interval == 0:\n",
    "                        output_image_path = os.path.join(\n",
    "                            output_dir,\n",
    "                            f\"{os.path.splitext(video_file)[0]}_frame_{frame_id}.jpg\",\n",
    "                        )\n",
    "                        cv2.imwrite(output_image_path, frame)\n",
    "\n",
    "                    frame_id += 1\n",
    "\n",
    "                cap.release()\n",
    "\n",
    "print(\"이미지 데이터 세트 생성 완료.\")"
   ]
  },
  {
   "cell_type": "code",
   "execution_count": null,
   "metadata": {},
   "outputs": [],
   "source": []
  }
 ],
 "metadata": {
  "kernelspec": {
   "display_name": "aiffel",
   "language": "python",
   "name": "python3"
  },
  "language_info": {
   "codemirror_mode": {
    "name": "ipython",
    "version": 3
   },
   "file_extension": ".py",
   "mimetype": "text/x-python",
   "name": "python",
   "nbconvert_exporter": "python",
   "pygments_lexer": "ipython3",
   "version": "3.9.19"
  }
 },
 "nbformat": 4,
 "nbformat_minor": 2
}
