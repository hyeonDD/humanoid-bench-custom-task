{
 "cells": [
  {
   "cell_type": "markdown",
   "metadata": {},
   "source": [
    "wandb에서 비디오 다운로드"
   ]
  },
  {
   "cell_type": "code",
   "execution_count": 1,
   "metadata": {},
   "outputs": [],
   "source": [
    "import wandb\n",
    "import os"
   ]
  },
  {
   "cell_type": "code",
   "execution_count": 2,
   "metadata": {},
   "outputs": [
    {
     "name": "stderr",
     "output_type": "stream",
     "text": [
      "Failed to detect the name of this notebook, you can set it manually with the WANDB_NOTEBOOK_NAME environment variable to enable code saving.\n",
      "wandb: Currently logged in as: silpiria98 (zerobeak). Use `wandb login --relogin` to force relogin\n"
     ]
    },
    {
     "data": {
      "text/plain": [
       "True"
      ]
     },
     "execution_count": 2,
     "metadata": {},
     "output_type": "execute_result"
    }
   ],
   "source": [
    "# W&B 로그인\n",
    "wandb.login()"
   ]
  },
  {
   "cell_type": "code",
   "execution_count": 5,
   "metadata": {},
   "outputs": [
    {
     "name": "stdout",
     "output_type": "stream",
     "text": [
      "다운로드 완료!\n"
     ]
    }
   ],
   "source": [
    "# 다운로드할 W&B 프로젝트와 엔티티 설정\n",
    "entity = \"zerobeak\"  # 사용자 또는 조직 이름\n",
    "project = \"base_v2\"  # 프로젝트 이름\n",
    "\n",
    "# API 인스턴스 생성\n",
    "api = wandb.Api()\n",
    "\n",
    "# 프로젝트 내 모든 런 정보 가져오기\n",
    "runs = api.runs(f\"{entity}/{project}\")\n",
    "\n",
    "# 다운로드 폴더 설정\n",
    "download_path = \"./videos\"\n",
    "\n",
    "# 다운로드 폴더가 없을 경우 생성\n",
    "if not os.path.exists(download_path):\n",
    "    os.makedirs(download_path)\n",
    "\n",
    "# 모든 런에서 파일 다운로드\n",
    "for run in runs:\n",
    "    # 각 런마다 artifact 가져오기\n",
    "    for file in run.files():\n",
    "        file_path = os.path.join(download_path, run.name, file.name)\n",
    "\n",
    "        # 파일을 저장할 디렉토리가 없다면 생성\n",
    "        os.makedirs(os.path.dirname(file_path), exist_ok=True)\n",
    "\n",
    "        # 파일 다운로드\n",
    "        file.download(root=os.path.join(download_path, run.name), exist_ok=True)\n",
    "\n",
    "print(\"다운로드 완료!\")"
   ]
  },
  {
   "cell_type": "markdown",
   "metadata": {},
   "source": [
    "폴더 구조 확인"
   ]
  },
  {
   "cell_type": "code",
   "execution_count": 7,
   "metadata": {},
   "outputs": [
    {
     "name": "stdout",
     "output_type": "stream",
     "text": [
      "📁 image\n",
      "📁 videos\n",
      "  📁 humanoid_h1-hurdle-v0.tdmpc.tdmpc.0\n",
      "    📁 media\n",
      "      📁 videos\n",
      "        📁 results\n",
      "  📁 humanoid_h1-pole-v0.tdmpc.tdmpc.0\n",
      "    📁 media\n",
      "      📁 videos\n",
      "        📁 results\n",
      "  📁 humanoid_h1-proto.tdmpc.tdmpc.0\n",
      "    📁 artifact\n",
      "      📁 1268321861\n",
      "    📁 media\n",
      "      📁 videos\n",
      "        📁 results\n",
      "  📁 humanoid_h1-proto_slide.tdmpc.tdmpc.0\n",
      "    📁 media\n",
      "      📁 videos\n",
      "        📁 results\n",
      "  📁 humanoid_h1-slide-v0.tdmpc.tdmpc.0\n",
      "    📁 media\n",
      "      📁 videos\n",
      "        📁 results\n",
      "  📁 humanoid_h1-stair-v0.tdmpc.tdmpc.0\n",
      "    📁 media\n",
      "      📁 videos\n",
      "        📁 results\n",
      "  📁 humanoid_h1-walk-v0.tdmpc.tdmpc.0\n",
      "    📁 media\n",
      "      📁 videos\n",
      "        📁 results\n"
     ]
    }
   ],
   "source": [
    "import os\n",
    "\n",
    "\n",
    "def print_directory_tree(startpath, indent=\"\"):\n",
    "    # 루트 디렉토리부터 순차적으로 출력\n",
    "    for item in os.listdir(startpath):\n",
    "        path = os.path.join(startpath, item)\n",
    "\n",
    "        if os.path.isdir(path):\n",
    "            # 디렉토리의 경우\n",
    "            print(f\"{indent}📁 {item}\")\n",
    "            # 하위 폴더 및 파일 탐색 (재귀 호출)\n",
    "            print_directory_tree(path, indent + \"  \")\n",
    "        # else:\n",
    "        #     # 파일의 경우\n",
    "        #     print(f\"{indent}📄 {item}\")\n",
    "\n",
    "\n",
    "# 다운로드된 폴더 경로 설정\n",
    "path = \"./\"\n",
    "\n",
    "# 폴더 구조 출력\n",
    "if os.path.exists(path):\n",
    "    print_directory_tree(path)\n",
    "else:\n",
    "    print(f\"경로 {path}가 존재하지 않습니다.\")"
   ]
  },
  {
   "cell_type": "code",
   "execution_count": null,
   "metadata": {},
   "outputs": [],
   "source": []
  }
 ],
 "metadata": {
  "kernelspec": {
   "display_name": "aiffel",
   "language": "python",
   "name": "python3"
  },
  "language_info": {
   "codemirror_mode": {
    "name": "ipython",
    "version": 3
   },
   "file_extension": ".py",
   "mimetype": "text/x-python",
   "name": "python",
   "nbconvert_exporter": "python",
   "pygments_lexer": "ipython3",
   "version": "3.9.19"
  }
 },
 "nbformat": 4,
 "nbformat_minor": 2
}
